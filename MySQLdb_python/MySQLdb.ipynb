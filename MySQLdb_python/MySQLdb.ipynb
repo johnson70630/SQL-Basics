{
 "cells": [
  {
   "cell_type": "code",
   "execution_count": null,
   "id": "undefined-taylor",
   "metadata": {},
   "outputs": [],
   "source": [
    "# !pip install mysqlclient"
   ]
  },
  {
   "cell_type": "markdown",
   "id": "d3668223-6c8f-4c3e-a077-217b08783795",
   "metadata": {},
   "source": [
    "# Create Dataset"
   ]
  },
  {
   "cell_type": "code",
   "execution_count": null,
   "id": "african-desert",
   "metadata": {},
   "outputs": [],
   "source": [
    "import MySQLdb\n",
    "\n",
    "db = MySQLdb.connect(\"localhost\",\"root\",\"isaac\",\"mydatabase\")\n",
    "\n",
    "cursor = db.cursor()\n",
    "\n",
    "## Drop Dataset if exist\n",
    "\n",
    "cursur.execute('DROP TABLE IF EXIST STUDENTS')\n",
    "\n",
    "## Create Dataset\n",
    "'''\n",
    "| ID INT(11) | NAME CHAR(20) | GENDER CHAR(20) | CHINESE CHAR(20) | ENGLISH CHAR(20) | MATH CHAR(20) | SOCIAL_SCIENCE CHAR(20) | SCIENCE  CHAR(20) |\n",
    "\n",
    "PRIMARY KEY = ID\n",
    "CHARSET = utf8\n",
    "\n",
    "'''\n",
    "\n",
    "sql = \"\"\"CREATE TABLE STUDENTS(ID INT(11) NOT NULL AUTO_INCREMENT,\n",
    "                               NAME CHAR(20) NOT NULL,\n",
    "                               GENDER CHAR(20) NOT NULL,\n",
    "                               CHINESE CHAR(20) NOT NULL,\n",
    "                               ENGLISH CHAR(20) NOT NULL,\n",
    "                               MATH CHAR(20) NOT NULL,\n",
    "                               SOCIAL_SCIENCE CHAR(20) NOT NULL,\n",
    "                               SCIENCE  CHAR(20) NOT NULL,\n",
    "                               PRIMARY KEY (ID),\n",
    "                               )DEFAULT CHARSET=utf8\"\"\"\n",
    "\n",
    "db.close()"
   ]
  },
  {
   "cell_type": "markdown",
   "id": "fa51ff70-8b77-4092-85a5-7246cf636cb5",
   "metadata": {},
   "source": [
    "# Enter student grades into the database manually\n",
    "\n",
    "name: isaac, gender: m, chinese: 60, english: 72, math: 32, social_science: 52, science: 86  \n",
    "name: amy, gender: f, chinese: 50, english: 22, math: 80, social_science: 15, science: 93"
   ]
  },
  {
   "cell_type": "code",
   "execution_count": null,
   "id": "blank-professor",
   "metadata": {},
   "outputs": [],
   "source": [
    "import MySQLdb\n",
    "\n",
    "db = MySQLdb.connect(\"localhost\",\"root\",\"isaac\",\"mydatabase\" )\n",
    "\n",
    "cursor = db.cursor()\n",
    "\n",
    "print(\"enter students score\")\n",
    "while True:\n",
    "\n",
    "    student_name = input(\"enter name: \")\n",
    "    student_gender = input(\"enter gender: \")\n",
    "    student_chinese = input(\"enter chinese score: \")\n",
    "    student_english = input(\"enter english score: \")\n",
    "    student_math = input(\"enter math score: \")\n",
    "    student_social_science = input(\"enter social science score: \")\n",
    "    student_science = input(\"enter science score: \")\n",
    "    \n",
    "    ## Insert student_name, student_gender, student_chinese, ...... into the database\n",
    "    x = (student_name, student_gender, student_chinese, student_english, student_math, student_social_science, student_science)\n",
    "    cursor.execute(\"\"\"INSERT INTO STUDENTS(NAME,\n",
    "                                           GENDER, \n",
    "                                           CHINESE,\n",
    "                                           ENGLISH, \n",
    "                                           MATH, \n",
    "                                           SOCIAL_SCIENCE, \n",
    "                                           SCIENCE) VALUES (%s, %s, %s, %s, %s, %s, %s)\"\"\", x)\n",
    "    db.commit()\n",
    "    \n",
    "    again = input(\"continue(y/n)? \")\n",
    "    if again[0].lower() == \"n\":\n",
    "        break\n",
    "\n",
    "db.close()"
   ]
  },
  {
   "cell_type": "markdown",
   "id": "b6ddc4c9-782d-4c0b-b22f-9987cea956cc",
   "metadata": {},
   "source": [
    "# Query all the contents of the current database"
   ]
  },
  {
   "cell_type": "code",
   "execution_count": null,
   "id": "regular-preservation",
   "metadata": {},
   "outputs": [],
   "source": [
    "import MySQLdb\n",
    "\n",
    "db = MySQLdb.connect(\"localhost\",\"root\",\"isaac\",\"mydatabase\" )\n",
    "\n",
    "\n",
    "cursor = db.cursor()\n",
    "\n",
    "sql = \"SELECT * FROM STUDENTS\"\n",
    "\n",
    "# Query all contents of the current database\n",
    "cursor.execute(sql)\n",
    "result = cursor.fetchall()\n",
    "\n",
    "for row in results:\n",
    "    student_id = row[0]\n",
    "    student_name = row[1]\n",
    "    student_gender = row[2]\n",
    "    student_chinese = row[3]\n",
    "    student_english = row[4]\n",
    "    student_math = row[5]\n",
    "    student_social_science = row[6]\n",
    "    student_science = row[7]\n",
    "    \n",
    "    print('name:{}, gender:{}, chinese:{}, englisgh:{}, math:{}, social_science:{}, student_science:{}'.format(student_name, \n",
    "            student_gender, student_chinese, student_english, student_math, student_social_science, student_science))\n",
    "    \n",
    "db.close()"
   ]
  },
  {
   "cell_type": "markdown",
   "id": "governmental-specific",
   "metadata": {},
   "source": [
    "# Use a CSV file to import the entire class's grades in bulk"
   ]
  },
  {
   "cell_type": "code",
   "execution_count": null,
   "id": "bound-battlefield",
   "metadata": {},
   "outputs": [],
   "source": [
    "import MySQLdb\n",
    "\n",
    "db = MySQLdb.connect(\"localhost\",\"root\",\"isaac\",\"mydatabase\" )\n",
    "\n",
    "\n",
    "cursor = db.cursor()\n",
    "\n",
    "## Insert all student grades from exam_score.csv into the database\n",
    "with open('exam_score.csv', 'r') as f:\n",
    "    for index, line in enumerate(f.readlines()):\n",
    "        if index > 0:\n",
    "            data = tuple(line.strip().split(','))\n",
    "            print(\"inseting {} data......\".format(data(0)))\n",
    "\n",
    "            sql = \"\"\"INSERT INTO STUDENTS\n",
    "            (NAME, GENDER, CHINESE, ENGLISH, MATH, SOCIAL_SCIENCE, SCIENCE)\n",
    "            VALUES (%s, %s, %s, %s, %s, %s, %s)\"\"\"\n",
    "\n",
    "            cursor.execute(sql, data)\n",
    "            db.commit()\n",
    "        \n",
    "    \n",
    "\n",
    "cursor.execute()\n",
    "\n",
    "\n",
    "db.close()"
   ]
  },
  {
   "cell_type": "markdown",
   "id": "cooperative-rental",
   "metadata": {},
   "source": [
    "# Change Sophia's English grade to 99"
   ]
  },
  {
   "cell_type": "code",
   "execution_count": null,
   "id": "starting-nowhere",
   "metadata": {},
   "outputs": [],
   "source": [
    "import MySQLdb\n",
    "\n",
    "db = MySQLdb.connect(\"localhost\",\"root\",\"isaac\",\"mydatabase\" )\n",
    "\n",
    "cursor = db.cursor()\n",
    "\n",
    "## Change Sophia's English grade to 99\n",
    "\n",
    "sql = \"UPDATE STUDENTS SET ENGLISH = 99 WHERE NAME = '%s'\" % ('sophia')\n",
    "\n",
    "cursor.execute(sql)\n",
    "db.commit()\n",
    "\n",
    "db.close()"
   ]
  },
  {
   "cell_type": "markdown",
   "id": "planned-player",
   "metadata": {},
   "source": [
    "# Calculate the average for each subject"
   ]
  },
  {
   "cell_type": "code",
   "execution_count": null,
   "id": "occasional-perception",
   "metadata": {},
   "outputs": [],
   "source": [
    "import MySQLdb\n",
    "\n",
    "db = MySQLdb.connect(\"db4free.net\",\"isaac60103\",\"isaac60103test\",\"isaac60103\", port = 3306 )\n",
    "\n",
    "cursor = db.cursor()\n",
    "\n",
    "\n",
    "sql = \"SELECT * FROM STUDENTS\"\n",
    "chinese_avg = 0\n",
    "english_avg = 0\n",
    "math_avg = 0\n",
    "social_science_avg = 0\n",
    "science_avg = 0\n",
    "\n",
    "try:\n",
    "    \n",
    "    cursor.execute(sql)\n",
    "\n",
    "    results = cursor.fetchall()\n",
    "    num_students = len(results)\n",
    "    ## Calculate the average for each subject\n",
    "    for row in results:\n",
    "        chinese_avg += float(row[3])\n",
    "        english_avg += float(row[4])\n",
    "        math_avg += float(row[5])\n",
    "        social_science_avg += float(row[6])\n",
    "        science_avg += float(row[7])\n",
    "\n",
    "    \n",
    "except:\n",
    "    print(\"Error: unable to fecth data\")\n",
    "\n",
    "print('chinese_avg: {}'.format(chinese_avg/num_students))\n",
    "print('english_avg: {}'.format(english_avg/num_students))\n",
    "print('math_avg: {}'.format(math_avg/num_students))\n",
    "print('social_science_avg: {}'.format(social_science_avg/num_students))\n",
    "print('science_avg: {}'.format(science_avg/num_students))\n",
    "\n",
    "db.close()"
   ]
  }
 ],
 "metadata": {
  "kernelspec": {
   "display_name": "Python 3 (ipykernel)",
   "language": "python",
   "name": "python3"
  },
  "language_info": {
   "codemirror_mode": {
    "name": "ipython",
    "version": 3
   },
   "file_extension": ".py",
   "mimetype": "text/x-python",
   "name": "python",
   "nbconvert_exporter": "python",
   "pygments_lexer": "ipython3",
   "version": "3.8.18"
  }
 },
 "nbformat": 4,
 "nbformat_minor": 5
}
